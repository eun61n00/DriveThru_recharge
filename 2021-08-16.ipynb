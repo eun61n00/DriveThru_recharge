{
 "cells": [
  {
   "cell_type": "markdown",
   "id": "thousand-wright",
   "metadata": {},
   "source": [
    "# 평일, 주말 통행속도 파일 나누기"
   ]
  },
  {
   "cell_type": "code",
   "execution_count": 1,
   "id": "elegant-dragon",
   "metadata": {},
   "outputs": [],
   "source": [
    "import pandas as pd"
   ]
  },
  {
   "cell_type": "code",
   "execution_count": 2,
   "id": "spare-array",
   "metadata": {},
   "outputs": [
    {
     "data": {
      "text/html": [
       "<div>\n",
       "<style scoped>\n",
       "    .dataframe tbody tr th:only-of-type {\n",
       "        vertical-align: middle;\n",
       "    }\n",
       "\n",
       "    .dataframe tbody tr th {\n",
       "        vertical-align: top;\n",
       "    }\n",
       "\n",
       "    .dataframe thead th {\n",
       "        text-align: right;\n",
       "    }\n",
       "</style>\n",
       "<table border=\"1\" class=\"dataframe\">\n",
       "  <thead>\n",
       "    <tr style=\"text-align: right;\">\n",
       "      <th></th>\n",
       "      <th>일자</th>\n",
       "      <th>요일</th>\n",
       "      <th>도로명</th>\n",
       "      <th>링크아이디</th>\n",
       "      <th>시점명</th>\n",
       "      <th>종점명</th>\n",
       "      <th>방향</th>\n",
       "      <th>거리</th>\n",
       "      <th>차선수</th>\n",
       "      <th>기능유형구분</th>\n",
       "      <th>...</th>\n",
       "      <th>15시</th>\n",
       "      <th>16시</th>\n",
       "      <th>17시</th>\n",
       "      <th>18시</th>\n",
       "      <th>19시</th>\n",
       "      <th>20시</th>\n",
       "      <th>21시</th>\n",
       "      <th>22시</th>\n",
       "      <th>23시</th>\n",
       "      <th>24시</th>\n",
       "    </tr>\n",
       "  </thead>\n",
       "  <tbody>\n",
       "    <tr>\n",
       "      <th>0</th>\n",
       "      <td>20210701</td>\n",
       "      <td>목</td>\n",
       "      <td>4.19로</td>\n",
       "      <td>1080012200</td>\n",
       "      <td>아카데미하우스</td>\n",
       "      <td>국립4.19묘지</td>\n",
       "      <td>상행</td>\n",
       "      <td>1179</td>\n",
       "      <td>1</td>\n",
       "      <td>보조간선도로</td>\n",
       "      <td>...</td>\n",
       "      <td>40.66</td>\n",
       "      <td>38.75</td>\n",
       "      <td>49.65</td>\n",
       "      <td>34.83</td>\n",
       "      <td>30.88</td>\n",
       "      <td>41.75</td>\n",
       "      <td>36.70</td>\n",
       "      <td>57.18</td>\n",
       "      <td>53.91</td>\n",
       "      <td>44.74</td>\n",
       "    </tr>\n",
       "    <tr>\n",
       "      <th>1</th>\n",
       "      <td>20210701</td>\n",
       "      <td>목</td>\n",
       "      <td>4.19로</td>\n",
       "      <td>1080012800</td>\n",
       "      <td>국립4.19묘지</td>\n",
       "      <td>국립4.19묘지입구</td>\n",
       "      <td>상행</td>\n",
       "      <td>352</td>\n",
       "      <td>2</td>\n",
       "      <td>보조간선도로</td>\n",
       "      <td>...</td>\n",
       "      <td>16.22</td>\n",
       "      <td>15.11</td>\n",
       "      <td>12.69</td>\n",
       "      <td>9.36</td>\n",
       "      <td>9.30</td>\n",
       "      <td>14.78</td>\n",
       "      <td>13.36</td>\n",
       "      <td>18.09</td>\n",
       "      <td>17.09</td>\n",
       "      <td>17.16</td>\n",
       "    </tr>\n",
       "    <tr>\n",
       "      <th>2</th>\n",
       "      <td>20210701</td>\n",
       "      <td>목</td>\n",
       "      <td>4.19로</td>\n",
       "      <td>1080012700</td>\n",
       "      <td>국립4.19묘지입구</td>\n",
       "      <td>국립4.19묘지</td>\n",
       "      <td>하행</td>\n",
       "      <td>354</td>\n",
       "      <td>2</td>\n",
       "      <td>보조간선도로</td>\n",
       "      <td>...</td>\n",
       "      <td>19.18</td>\n",
       "      <td>17.31</td>\n",
       "      <td>20.76</td>\n",
       "      <td>18.57</td>\n",
       "      <td>18.79</td>\n",
       "      <td>20.09</td>\n",
       "      <td>20.38</td>\n",
       "      <td>18.14</td>\n",
       "      <td>19.05</td>\n",
       "      <td>22.26</td>\n",
       "    </tr>\n",
       "    <tr>\n",
       "      <th>3</th>\n",
       "      <td>20210701</td>\n",
       "      <td>목</td>\n",
       "      <td>4.19로</td>\n",
       "      <td>1080012100</td>\n",
       "      <td>국립4.19묘지</td>\n",
       "      <td>아카데미하우스</td>\n",
       "      <td>하행</td>\n",
       "      <td>1190</td>\n",
       "      <td>1</td>\n",
       "      <td>보조간선도로</td>\n",
       "      <td>...</td>\n",
       "      <td>44.20</td>\n",
       "      <td>44.69</td>\n",
       "      <td>63.16</td>\n",
       "      <td>62.00</td>\n",
       "      <td>48.49</td>\n",
       "      <td>51.04</td>\n",
       "      <td>46.74</td>\n",
       "      <td>50.07</td>\n",
       "      <td>51.82</td>\n",
       "      <td>40.22</td>\n",
       "    </tr>\n",
       "    <tr>\n",
       "      <th>4</th>\n",
       "      <td>20210701</td>\n",
       "      <td>목</td>\n",
       "      <td>가락로</td>\n",
       "      <td>1230024700</td>\n",
       "      <td>방이초교</td>\n",
       "      <td>방이동고분군</td>\n",
       "      <td>상행</td>\n",
       "      <td>844</td>\n",
       "      <td>1</td>\n",
       "      <td>기타도로</td>\n",
       "      <td>...</td>\n",
       "      <td>14.95</td>\n",
       "      <td>14.36</td>\n",
       "      <td>13.07</td>\n",
       "      <td>15.40</td>\n",
       "      <td>16.20</td>\n",
       "      <td>18.59</td>\n",
       "      <td>13.41</td>\n",
       "      <td>15.24</td>\n",
       "      <td>16.48</td>\n",
       "      <td>19.52</td>\n",
       "    </tr>\n",
       "    <tr>\n",
       "      <th>...</th>\n",
       "      <td>...</td>\n",
       "      <td>...</td>\n",
       "      <td>...</td>\n",
       "      <td>...</td>\n",
       "      <td>...</td>\n",
       "      <td>...</td>\n",
       "      <td>...</td>\n",
       "      <td>...</td>\n",
       "      <td>...</td>\n",
       "      <td>...</td>\n",
       "      <td>...</td>\n",
       "      <td>...</td>\n",
       "      <td>...</td>\n",
       "      <td>...</td>\n",
       "      <td>...</td>\n",
       "      <td>...</td>\n",
       "      <td>...</td>\n",
       "      <td>...</td>\n",
       "      <td>...</td>\n",
       "      <td>...</td>\n",
       "      <td>...</td>\n",
       "    </tr>\n",
       "    <tr>\n",
       "      <th>156042</th>\n",
       "      <td>20210731</td>\n",
       "      <td>토</td>\n",
       "      <td>흑석로</td>\n",
       "      <td>1190003703</td>\n",
       "      <td>중앙대학교</td>\n",
       "      <td>성심의집</td>\n",
       "      <td>하행</td>\n",
       "      <td>398</td>\n",
       "      <td>0</td>\n",
       "      <td>기타도로</td>\n",
       "      <td>...</td>\n",
       "      <td>17.72</td>\n",
       "      <td>15.77</td>\n",
       "      <td>15.20</td>\n",
       "      <td>16.68</td>\n",
       "      <td>18.78</td>\n",
       "      <td>17.64</td>\n",
       "      <td>18.30</td>\n",
       "      <td>16.82</td>\n",
       "      <td>17.92</td>\n",
       "      <td>20.47</td>\n",
       "    </tr>\n",
       "    <tr>\n",
       "      <th>156043</th>\n",
       "      <td>20210731</td>\n",
       "      <td>토</td>\n",
       "      <td>흑석로</td>\n",
       "      <td>1190003702</td>\n",
       "      <td>성심의집</td>\n",
       "      <td>이화빌라</td>\n",
       "      <td>하행</td>\n",
       "      <td>143</td>\n",
       "      <td>0</td>\n",
       "      <td>기타도로</td>\n",
       "      <td>...</td>\n",
       "      <td>20.66</td>\n",
       "      <td>20.87</td>\n",
       "      <td>22.76</td>\n",
       "      <td>21.55</td>\n",
       "      <td>20.51</td>\n",
       "      <td>20.63</td>\n",
       "      <td>22.15</td>\n",
       "      <td>19.04</td>\n",
       "      <td>18.95</td>\n",
       "      <td>23.49</td>\n",
       "    </tr>\n",
       "    <tr>\n",
       "      <th>156044</th>\n",
       "      <td>20210731</td>\n",
       "      <td>토</td>\n",
       "      <td>흑석로</td>\n",
       "      <td>1190003701</td>\n",
       "      <td>이화빌라</td>\n",
       "      <td>이화약국</td>\n",
       "      <td>하행</td>\n",
       "      <td>133</td>\n",
       "      <td>0</td>\n",
       "      <td>기타도로</td>\n",
       "      <td>...</td>\n",
       "      <td>19.08</td>\n",
       "      <td>20.25</td>\n",
       "      <td>22.50</td>\n",
       "      <td>21.25</td>\n",
       "      <td>21.17</td>\n",
       "      <td>21.50</td>\n",
       "      <td>22.75</td>\n",
       "      <td>19.08</td>\n",
       "      <td>16.67</td>\n",
       "      <td>25.88</td>\n",
       "    </tr>\n",
       "    <tr>\n",
       "      <th>156045</th>\n",
       "      <td>20210731</td>\n",
       "      <td>토</td>\n",
       "      <td>희우정로</td>\n",
       "      <td>1130016400</td>\n",
       "      <td>망원정사거리</td>\n",
       "      <td>한강공원입구</td>\n",
       "      <td>상행</td>\n",
       "      <td>692</td>\n",
       "      <td>2</td>\n",
       "      <td>기타도로</td>\n",
       "      <td>...</td>\n",
       "      <td>20.86</td>\n",
       "      <td>19.37</td>\n",
       "      <td>20.66</td>\n",
       "      <td>21.44</td>\n",
       "      <td>19.07</td>\n",
       "      <td>20.66</td>\n",
       "      <td>20.96</td>\n",
       "      <td>21.22</td>\n",
       "      <td>21.30</td>\n",
       "      <td>26.91</td>\n",
       "    </tr>\n",
       "    <tr>\n",
       "      <th>156046</th>\n",
       "      <td>20210731</td>\n",
       "      <td>토</td>\n",
       "      <td>희우정로</td>\n",
       "      <td>1130016300</td>\n",
       "      <td>한강공원입구</td>\n",
       "      <td>망원정사거리</td>\n",
       "      <td>하행</td>\n",
       "      <td>688</td>\n",
       "      <td>2</td>\n",
       "      <td>기타도로</td>\n",
       "      <td>...</td>\n",
       "      <td>13.87</td>\n",
       "      <td>16.05</td>\n",
       "      <td>19.73</td>\n",
       "      <td>17.32</td>\n",
       "      <td>24.38</td>\n",
       "      <td>16.17</td>\n",
       "      <td>18.97</td>\n",
       "      <td>16.21</td>\n",
       "      <td>19.29</td>\n",
       "      <td>19.58</td>\n",
       "    </tr>\n",
       "  </tbody>\n",
       "</table>\n",
       "<p>156047 rows × 36 columns</p>\n",
       "</div>"
      ],
      "text/plain": [
       "              일자 요일    도로명       링크아이디         시점명         종점명  방향    거리  차선수  \\\n",
       "0       20210701  목  4.19로  1080012200     아카데미하우스    국립4.19묘지  상행  1179    1   \n",
       "1       20210701  목  4.19로  1080012800    국립4.19묘지  국립4.19묘지입구  상행   352    2   \n",
       "2       20210701  목  4.19로  1080012700  국립4.19묘지입구    국립4.19묘지  하행   354    2   \n",
       "3       20210701  목  4.19로  1080012100    국립4.19묘지     아카데미하우스  하행  1190    1   \n",
       "4       20210701  목    가락로  1230024700        방이초교      방이동고분군  상행   844    1   \n",
       "...          ... ..    ...         ...         ...         ...  ..   ...  ...   \n",
       "156042  20210731  토    흑석로  1190003703       중앙대학교        성심의집  하행   398    0   \n",
       "156043  20210731  토    흑석로  1190003702        성심의집        이화빌라  하행   143    0   \n",
       "156044  20210731  토    흑석로  1190003701        이화빌라        이화약국  하행   133    0   \n",
       "156045  20210731  토   희우정로  1130016400      망원정사거리      한강공원입구  상행   692    2   \n",
       "156046  20210731  토   희우정로  1130016300      한강공원입구      망원정사거리  하행   688    2   \n",
       "\n",
       "        기능유형구분  ...    15시    16시    17시    18시    19시    20시    21시    22시  \\\n",
       "0       보조간선도로  ...  40.66  38.75  49.65  34.83  30.88  41.75  36.70  57.18   \n",
       "1       보조간선도로  ...  16.22  15.11  12.69   9.36   9.30  14.78  13.36  18.09   \n",
       "2       보조간선도로  ...  19.18  17.31  20.76  18.57  18.79  20.09  20.38  18.14   \n",
       "3       보조간선도로  ...  44.20  44.69  63.16  62.00  48.49  51.04  46.74  50.07   \n",
       "4         기타도로  ...  14.95  14.36  13.07  15.40  16.20  18.59  13.41  15.24   \n",
       "...        ...  ...    ...    ...    ...    ...    ...    ...    ...    ...   \n",
       "156042    기타도로  ...  17.72  15.77  15.20  16.68  18.78  17.64  18.30  16.82   \n",
       "156043    기타도로  ...  20.66  20.87  22.76  21.55  20.51  20.63  22.15  19.04   \n",
       "156044    기타도로  ...  19.08  20.25  22.50  21.25  21.17  21.50  22.75  19.08   \n",
       "156045    기타도로  ...  20.86  19.37  20.66  21.44  19.07  20.66  20.96  21.22   \n",
       "156046    기타도로  ...  13.87  16.05  19.73  17.32  24.38  16.17  18.97  16.21   \n",
       "\n",
       "          23시    24시  \n",
       "0       53.91  44.74  \n",
       "1       17.09  17.16  \n",
       "2       19.05  22.26  \n",
       "3       51.82  40.22  \n",
       "4       16.48  19.52  \n",
       "...       ...    ...  \n",
       "156042  17.92  20.47  \n",
       "156043  18.95  23.49  \n",
       "156044  16.67  25.88  \n",
       "156045  21.30  26.91  \n",
       "156046  19.29  19.58  \n",
       "\n",
       "[156047 rows x 36 columns]"
      ]
     },
     "execution_count": 2,
     "metadata": {},
     "output_type": "execute_result"
    }
   ],
   "source": [
    "v = pd.read_csv(r\"G:\\내 드라이브\\2021 공공빅데이터 청년인턴\\프로젝트\\데이터\\version2\\202107_v.csv\", encoding=\"EUC-KR\")\n",
    "v"
   ]
  },
  {
   "cell_type": "code",
   "execution_count": 11,
   "id": "usual-tsunami",
   "metadata": {},
   "outputs": [],
   "source": [
    "road = pd.read_csv(r\"G:\\내 드라이브\\2021 공공빅데이터 청년인턴\\프로젝트\\데이터\\road_extract\\road_extract_final.csv\", encoding=\"EUC-KR\")"
   ]
  },
  {
   "cell_type": "code",
   "execution_count": 12,
   "id": "aging-roberts",
   "metadata": {},
   "outputs": [],
   "source": [
    "road_join_weekday = pd.merge(left=road, right=v_weekday, how='left', left_on='LINK_ID', right_on='링크아이디')\n",
    "road_join_weekday.to_csv(r'G:\\내 드라이브\\2021 공공빅데이터 청년인턴\\프로젝트\\데이터\\version2\\road_join_weekday_full.csv', sep=',', na_rep='NaN', encoding='EUC-KR')"
   ]
  },
  {
   "cell_type": "code",
   "execution_count": 13,
   "id": "desirable-windows",
   "metadata": {},
   "outputs": [],
   "source": [
    "road_join_weekend = pd.merge(left=road, right=v_weekend, how='left', left_on='LINK_ID', right_on='링크아이디')\n",
    "road_join_weekend.to_csv(r'G:\\내 드라이브\\2021 공공빅데이터 청년인턴\\프로젝트\\데이터\\version2\\road_join_weekend_full.csv', sep=',', na_rep='NaN', encoding='EUC-KR')"
   ]
  },
  {
   "cell_type": "code",
   "execution_count": 14,
   "id": "jewish-astrology",
   "metadata": {},
   "outputs": [],
   "source": [
    "kmeans5 = pd.read_csv(r\"G:\\내 드라이브\\2021 공공빅데이터 청년인턴\\프로젝트\\데이터\\version2\\clustering\\kmeans_5_pop_road.csv\", encoding=\"EUC-KR\")"
   ]
  },
  {
   "cell_type": "code",
   "execution_count": 16,
   "id": "optimum-cleaning",
   "metadata": {},
   "outputs": [],
   "source": [
    "road_join_weekday_full_cluster = pd.merge(left=road_join_weekday, right=kmeans5, how='inner', left_on='store_name', right_on='store_name')\n",
    "road_join_weekday_full_cluster.to_csv(r'G:\\내 드라이브\\2021 공공빅데이터 청년인턴\\프로젝트\\데이터\\version2\\road_join_weekday_ful_cluster.csv', sep=',', na_rep='NaN', encoding='EUC-KR')"
   ]
  },
  {
   "cell_type": "code",
   "execution_count": 17,
   "id": "matched-manchester",
   "metadata": {},
   "outputs": [],
   "source": [
    "road_join_weekend_full_cluster = pd.merge(left=road_join_weekend, right=kmeans5, how='inner', left_on='store_name', right_on='store_name')\n",
    "road_join_weekend_full_cluster.to_csv(r'G:\\내 드라이브\\2021 공공빅데이터 청년인턴\\프로젝트\\데이터\\version2\\road_join_weekend_full_cluster.csv', sep=',', na_rep='NaN', encoding='EUC-KR')"
   ]
  },
  {
   "cell_type": "code",
   "execution_count": 18,
   "id": "attached-compression",
   "metadata": {},
   "outputs": [],
   "source": [
    "kmeans5_group0 = road_join_weekday_full_cluster['cluster'] == 0\n",
    "kmeans5_group0 = road_join_weekday_full_cluster[kmeans5_group0]\n",
    "kmeans5_group0.to_csv(r'G:\\내 드라이브\\2021 공공빅데이터 청년인턴\\프로젝트\\데이터\\version2\\clustering\\group0_weekday_full.csv', sep=',', na_rep='NaN', encoding='EUC-KR')"
   ]
  },
  {
   "cell_type": "code",
   "execution_count": 19,
   "id": "foster-teaching",
   "metadata": {},
   "outputs": [],
   "source": [
    "kmeans5_group1 = road_join_weekday_full_cluster['cluster'] == 1\n",
    "kmeans5_group1 = road_join_weekday_full_cluster[kmeans5_group1]\n",
    "kmeans5_group1.to_csv(r'G:\\내 드라이브\\2021 공공빅데이터 청년인턴\\프로젝트\\데이터\\version2\\clustering\\group1_weekday_full.csv', sep=',', na_rep='NaN', encoding='EUC-KR')"
   ]
  },
  {
   "cell_type": "code",
   "execution_count": 20,
   "id": "interracial-luxembourg",
   "metadata": {},
   "outputs": [],
   "source": [
    "kmeans5_group2 = road_join_weekday_full_cluster['cluster'] == 2\n",
    "kmeans5_group2 = road_join_weekday_full_cluster[kmeans5_group2]\n",
    "kmeans5_group2.to_csv(r'G:\\내 드라이브\\2021 공공빅데이터 청년인턴\\프로젝트\\데이터\\version2\\clustering\\group2_weekday_full.csv', sep=',', na_rep='NaN', encoding='EUC-KR')"
   ]
  },
  {
   "cell_type": "code",
   "execution_count": 21,
   "id": "devoted-bottle",
   "metadata": {},
   "outputs": [],
   "source": [
    "kmeans5_group3 = road_join_weekday_full_cluster['cluster'] == 3\n",
    "kmeans5_group3 = road_join_weekday_full_cluster[kmeans5_group3]\n",
    "kmeans5_group3.to_csv(r'G:\\내 드라이브\\2021 공공빅데이터 청년인턴\\프로젝트\\데이터\\version2\\clustering\\group3_weekday_full.csv', sep=',', na_rep='NaN', encoding='EUC-KR')"
   ]
  },
  {
   "cell_type": "code",
   "execution_count": 22,
   "id": "complicated-workstation",
   "metadata": {},
   "outputs": [],
   "source": [
    "kmeans5_group4 = road_join_weekday_full_cluster['cluster'] == 4\n",
    "kmeans5_group4 = road_join_weekday_full_cluster[kmeans5_group4]\n",
    "kmeans5_group4.to_csv(r'G:\\내 드라이브\\2021 공공빅데이터 청년인턴\\프로젝트\\데이터\\version2\\clustering\\group4_weekday_full.csv', sep=',', na_rep='NaN', encoding='EUC-KR')"
   ]
  },
  {
   "cell_type": "code",
   "execution_count": 25,
   "id": "interracial-office",
   "metadata": {},
   "outputs": [],
   "source": [
    "kmeans5_group0_weekend = road_join_weekend_full_cluster['cluster'] == 0\n",
    "kmeans5_group0_weekend = road_join_weekend_full_cluster[kmeans5_group0_weekend]\n",
    "kmeans5_group0_weekend.to_csv(r'G:\\내 드라이브\\2021 공공빅데이터 청년인턴\\프로젝트\\데이터\\version2\\clustering\\group0_weekend_full.csv', sep=',', na_rep='NaN', encoding='EUC-KR')"
   ]
  },
  {
   "cell_type": "code",
   "execution_count": 26,
   "id": "decent-tunisia",
   "metadata": {},
   "outputs": [],
   "source": [
    "kmeans5_group1_weekend = road_join_weekend_full_cluster['cluster'] == 1\n",
    "kmeans5_group1_weekend = road_join_weekend_full_cluster[kmeans5_group1_weekend]\n",
    "kmeans5_group1_weekend.to_csv(r'G:\\내 드라이브\\2021 공공빅데이터 청년인턴\\프로젝트\\데이터\\version2\\clustering\\group1_weekend_full.csv', sep=',', na_rep='NaN', encoding='EUC-KR')"
   ]
  },
  {
   "cell_type": "code",
   "execution_count": 27,
   "id": "extensive-builder",
   "metadata": {},
   "outputs": [],
   "source": [
    "kmeans5_group2_weekend = road_join_weekend_full_cluster['cluster'] == 2\n",
    "kmeans5_group2_weekend = road_join_weekend_full_cluster[kmeans5_group2_weekend]\n",
    "kmeans5_group2_weekend.to_csv(r'G:\\내 드라이브\\2021 공공빅데이터 청년인턴\\프로젝트\\데이터\\version2\\clustering\\group2_weekend_full.csv', sep=',', na_rep='NaN', encoding='EUC-KR')"
   ]
  },
  {
   "cell_type": "code",
   "execution_count": 28,
   "id": "remarkable-debate",
   "metadata": {},
   "outputs": [],
   "source": [
    "kmeans5_group3_weekend = road_join_weekend_full_cluster['cluster'] == 3\n",
    "kmeans5_group3_weekend = road_join_weekend_full_cluster[kmeans5_group3_weekend]\n",
    "kmeans5_group3_weekend.to_csv(r'G:\\내 드라이브\\2021 공공빅데이터 청년인턴\\프로젝트\\데이터\\version2\\clustering\\group3_weekend_full.csv', sep=',', na_rep='NaN', encoding='EUC-KR')"
   ]
  },
  {
   "cell_type": "code",
   "execution_count": 29,
   "id": "virtual-consolidation",
   "metadata": {},
   "outputs": [],
   "source": [
    "kmeans5_group4_weekend = road_join_weekend_full_cluster['cluster'] == 4\n",
    "kmeans5_group4_weekend = road_join_weekend_full_cluster[kmeans5_group4_weekend]\n",
    "kmeans5_group4_weekend.to_csv(r'G:\\내 드라이브\\2021 공공빅데이터 청년인턴\\프로젝트\\데이터\\version2\\clustering\\group4_weekend_full.csv', sep=',', na_rep='NaN', encoding='EUC-KR')"
   ]
  },
  {
   "cell_type": "code",
   "execution_count": 6,
   "id": "taken-extra",
   "metadata": {},
   "outputs": [],
   "source": [
    "import pandas as pd\n",
    "import numpy as np\n",
    "import scipy.stats\n",
    "import matplotlib.pyplot as plt"
   ]
  },
  {
   "cell_type": "code",
   "execution_count": 7,
   "id": "8337fd84",
   "metadata": {},
   "outputs": [],
   "source": [
    "group2_weekday_full = pd.read_csv(r\"G:\\내 드라이브\\2021 공공빅데이터 청년인턴\\프로젝트\\데이터\\version2\\clustering\\group2_weekday_full.csv\", encoding=\"EUC-KR\")"
   ]
  },
  {
   "cell_type": "code",
   "execution_count": 9,
   "id": "5cb0f11a",
   "metadata": {},
   "outputs": [],
   "source": [
    "import pandas as pd\n",
    "v202107_weekday = pd.read_csv(r\"G:\\내 드라이브\\2021 공공빅데이터 청년인턴\\프로젝트\\데이터\\서울시 통행속도\\v202107_weekday.csv\", encoding=\"EUC-KR\")\n",
    "v202107_weekend = pd.read_csv(r\"G:\\내 드라이브\\2021 공공빅데이터 청년인턴\\프로젝트\\데이터\\서울시 통행속도\\v202107_weekend.csv\", encoding=\"EUC-KR\")\n",
    "\n",
    "v202106_weekday = pd.read_csv(r\"G:\\내 드라이브\\2021 공공빅데이터 청년인턴\\프로젝트\\데이터\\서울시 통행속도\\v202106_weekday.csv\", encoding=\"EUC-KR\")\n",
    "v202106_weekend = pd.read_csv(r\"G:\\내 드라이브\\2021 공공빅데이터 청년인턴\\프로젝트\\데이터\\서울시 통행속도\\v202106_weekend.csv\", encoding=\"EUC-KR\")\n",
    "\n",
    "v202105_weekday = pd.read_csv(r\"G:\\내 드라이브\\2021 공공빅데이터 청년인턴\\프로젝트\\데이터\\서울시 통행속도\\v202105_weekday.csv\", encoding=\"EUC-KR\")\n",
    "v202105_weekend = pd.read_csv(r\"G:\\내 드라이브\\2021 공공빅데이터 청년인턴\\프로젝트\\데이터\\서울시 통행속도\\v202105_weekend.csv\", encoding=\"EUC-KR\")\n",
    "\n",
    "v202104_weekday = pd.read_csv(r\"G:\\내 드라이브\\2021 공공빅데이터 청년인턴\\프로젝트\\데이터\\서울시 통행속도\\v202104_weekday.csv\", encoding=\"EUC-KR\")\n",
    "v202104_weekend = pd.read_csv(r\"G:\\내 드라이브\\2021 공공빅데이터 청년인턴\\프로젝트\\데이터\\서울시 통행속도\\v202104_weekend.csv\", encoding=\"EUC-KR\")\n",
    "\n",
    "v202103_weekday = pd.read_csv(r\"G:\\내 드라이브\\2021 공공빅데이터 청년인턴\\프로젝트\\데이터\\서울시 통행속도\\v202103_weekday.csv\", encoding=\"EUC-KR\")\n",
    "v202103_weekend = pd.read_csv(r\"G:\\내 드라이브\\2021 공공빅데이터 청년인턴\\프로젝트\\데이터\\서울시 통행속도\\v202103_weekend.csv\", encoding=\"EUC-KR\")\n",
    "\n",
    "v202102_weekday = pd.read_csv(r\"G:\\내 드라이브\\2021 공공빅데이터 청년인턴\\프로젝트\\데이터\\서울시 통행속도\\v202102_weekday.csv\", encoding=\"EUC-KR\")\n",
    "v202102_weekend = pd.read_csv(r\"G:\\내 드라이브\\2021 공공빅데이터 청년인턴\\프로젝트\\데이터\\서울시 통행속도\\v202102_weekend.csv\", encoding=\"EUC-KR\")\n",
    "\n",
    "v202101_weekday = pd.read_csv(r\"G:\\내 드라이브\\2021 공공빅데이터 청년인턴\\프로젝트\\데이터\\서울시 통행속도\\v202101_weekday.csv\", encoding=\"EUC-KR\")\n",
    "v202101_weekend = pd.read_csv(r\"G:\\내 드라이브\\2021 공공빅데이터 청년인턴\\프로젝트\\데이터\\서울시 통행속도\\v202101_weekend.csv\", encoding=\"EUC-KR\")"
   ]
  },
  {
   "cell_type": "code",
   "execution_count": 11,
   "id": "4224ed82",
   "metadata": {},
   "outputs": [],
   "source": [
    "v_weekday = pd.concat([v202107_weekday, v202106_weekday, v202105_weekday, v202104_weekday, v202103_weekday, v202102_weekday, v202101_weekday,])"
   ]
  },
  {
   "cell_type": "code",
   "execution_count": 12,
   "id": "c54f4569",
   "metadata": {},
   "outputs": [],
   "source": [
    "v_weekday.to_csv(r\"G:\\내 드라이브\\2021 공공빅데이터 청년인턴\\프로젝트\\데이터\\서울시 통행속도\\v_weekday_all.csv\", sep=',', na_rep='NaN', encoding='EUC-KR')"
   ]
  },
  {
   "cell_type": "code",
   "execution_count": 13,
   "id": "f2e2df7a",
   "metadata": {},
   "outputs": [],
   "source": [
    "v_weekend = pd.concat([v202107_weekend, v202106_weekend, v202105_weekend, v202104_weekend, v202103_weekend, v202102_weekend, v202101_weekend,])\n",
    "v_weekend.to_csv(r\"G:\\내 드라이브\\2021 공공빅데이터 청년인턴\\프로젝트\\데이터\\서울시 통행속도\\v_weekend_all.csv\", sep=',', na_rep='NaN', encoding='EUC-KR')"
   ]
  },
  {
   "cell_type": "code",
   "execution_count": 16,
   "id": "f422dda4",
   "metadata": {},
   "outputs": [],
   "source": [
    "road = pd.read_csv(r\"G:\\내 드라이브\\2021 공공빅데이터 청년인턴\\프로젝트\\데이터\\road_extract\\road_extract_final.csv\", encoding=\"EUC-KR\")\n",
    "road_join_weekday = pd.merge(left=road, right=v_weekday, how='left', left_on='LINK_ID', right_on='링크아이디')\n",
    "road_join_weekday.to_csv(r'G:\\내 드라이브\\2021 공공빅데이터 청년인턴\\프로젝트\\데이터\\version2\\road_join_weekday_all.csv', sep=',', na_rep='NaN', encoding='EUC-KR')"
   ]
  },
  {
   "cell_type": "code",
   "execution_count": 17,
   "id": "90f6efcd",
   "metadata": {},
   "outputs": [],
   "source": [
    "road_join_weekend = pd.merge(left=road, right=v_weekend, how='left', left_on='LINK_ID', right_on='링크아이디')\n",
    "road_join_weekend.to_csv(r'G:\\내 드라이브\\2021 공공빅데이터 청년인턴\\프로젝트\\데이터\\version2\\road_join_weekend_all.csv', sep=',', na_rep='NaN', encoding='EUC-KR')"
   ]
  },
  {
   "cell_type": "code",
   "execution_count": 18,
   "id": "30874280",
   "metadata": {},
   "outputs": [],
   "source": [
    "kmeans5 = pd.read_csv(r\"G:\\내 드라이브\\2021 공공빅데이터 청년인턴\\프로젝트\\데이터\\version2\\clustering\\kmeans_5_pop_road.csv\", encoding=\"EUC-KR\")\n",
    "road_join_weekday_all_cluster = pd.merge(left=road_join_weekday, right=kmeans5, how='inner', left_on='store_name', right_on='store_name')\n",
    "road_join_weekday_all_cluster.to_csv(r'G:\\내 드라이브\\2021 공공빅데이터 청년인턴\\프로젝트\\데이터\\version2\\road_join_weekday_all_cluster.csv', sep=',', na_rep='NaN', encoding='EUC-KR')"
   ]
  },
  {
   "cell_type": "code",
   "execution_count": 19,
   "id": "099771a3",
   "metadata": {},
   "outputs": [],
   "source": [
    "road_join_weekend_all_cluster = pd.merge(left=road_join_weekend, right=kmeans5, how='inner', left_on='store_name', right_on='store_name')\n",
    "road_join_weekend_all_cluster.to_csv(r'G:\\내 드라이브\\2021 공공빅데이터 청년인턴\\프로젝트\\데이터\\version2\\road_join_weekend_all_cluster.csv', sep=',', na_rep='NaN', encoding='EUC-KR')"
   ]
  },
  {
   "cell_type": "code",
   "execution_count": 20,
   "id": "2519c176",
   "metadata": {},
   "outputs": [],
   "source": [
    "kmeans5_group0_weekday = road_join_weekday_all_cluster['cluster'] == 0\n",
    "kmeans5_group0_weekday = road_join_weekday_all_cluster[kmeans5_group0_weekday]\n",
    "kmeans5_group0_weekday.to_csv(r'G:\\내 드라이브\\2021 공공빅데이터 청년인턴\\프로젝트\\데이터\\version2\\clustering\\group0_weekday.csv', sep=',', na_rep='NaN', encoding='EUC-KR')"
   ]
  },
  {
   "cell_type": "code",
   "execution_count": 21,
   "id": "0990f234",
   "metadata": {},
   "outputs": [],
   "source": [
    "kmeans5_group1_weekday = road_join_weekday_all_cluster['cluster'] == 1\n",
    "kmeans5_group1_weekday = road_join_weekday_all_cluster[kmeans5_group1_weekday]\n",
    "kmeans5_group1_weekday.to_csv(r'G:\\내 드라이브\\2021 공공빅데이터 청년인턴\\프로젝트\\데이터\\version2\\clustering\\group1_weekday.csv', sep=',', na_rep='NaN', encoding='EUC-KR')"
   ]
  },
  {
   "cell_type": "code",
   "execution_count": 22,
   "id": "53bd1843",
   "metadata": {},
   "outputs": [],
   "source": [
    "kmeans5_group2_weekday = road_join_weekday_all_cluster['cluster'] == 2\n",
    "kmeans5_group2_weekday = road_join_weekday_all_cluster[kmeans5_group2_weekday]\n",
    "kmeans5_group2_weekday.to_csv(r'G:\\내 드라이브\\2021 공공빅데이터 청년인턴\\프로젝트\\데이터\\version2\\clustering\\group2_weekday.csv', sep=',', na_rep='NaN', encoding='EUC-KR')"
   ]
  },
  {
   "cell_type": "code",
   "execution_count": 23,
   "id": "66da4e9b",
   "metadata": {},
   "outputs": [],
   "source": [
    "kmeans5_group3_weekday = road_join_weekday_all_cluster['cluster'] == 3\n",
    "kmeans5_group3_weekday = road_join_weekday_all_cluster[kmeans5_group3_weekday]\n",
    "kmeans5_group3_weekday.to_csv(r'G:\\내 드라이브\\2021 공공빅데이터 청년인턴\\프로젝트\\데이터\\version2\\clustering\\group3_weekday.csv', sep=',', na_rep='NaN', encoding='EUC-KR')"
   ]
  },
  {
   "cell_type": "code",
   "execution_count": 24,
   "id": "91c4dd4a",
   "metadata": {},
   "outputs": [],
   "source": [
    "kmeans5_group4_weekday = road_join_weekday_all_cluster['cluster'] == 4\n",
    "kmeans5_group4_weekday = road_join_weekday_all_cluster[kmeans5_group4_weekday]\n",
    "kmeans5_group4_weekday.to_csv(r'G:\\내 드라이브\\2021 공공빅데이터 청년인턴\\프로젝트\\데이터\\version2\\clustering\\group4_weekday.csv', sep=',', na_rep='NaN', encoding='EUC-KR')"
   ]
  },
  {
   "cell_type": "code",
   "execution_count": 26,
   "id": "846e4468",
   "metadata": {},
   "outputs": [],
   "source": [
    "kmeans5_group0_weekend = road_join_weekend_all_cluster['cluster'] == 0\n",
    "kmeans5_group0_weekend = road_join_weekend_all_cluster[kmeans5_group0_weekend]\n",
    "kmeans5_group0_weekend.to_csv(r'G:\\내 드라이브\\2021 공공빅데이터 청년인턴\\프로젝트\\데이터\\version2\\clustering\\group0_weekend.csv', sep=',', na_rep='NaN', encoding='EUC-KR')"
   ]
  },
  {
   "cell_type": "code",
   "execution_count": 27,
   "id": "7571ff6b",
   "metadata": {},
   "outputs": [],
   "source": [
    "kmeans5_group1_weekend = road_join_weekend_all_cluster['cluster'] == 1\n",
    "kmeans5_group1_weekend = road_join_weekend_all_cluster[kmeans5_group1_weekend]\n",
    "kmeans5_group1_weekend.to_csv(r'G:\\내 드라이브\\2021 공공빅데이터 청년인턴\\프로젝트\\데이터\\version2\\clustering\\group1_weekend.csv', sep=',', na_rep='NaN', encoding='EUC-KR')"
   ]
  },
  {
   "cell_type": "code",
   "execution_count": 28,
   "id": "6fb3756f",
   "metadata": {},
   "outputs": [],
   "source": [
    "kmeans5_group2_weekend = road_join_weekend_all_cluster['cluster'] == 2\n",
    "kmeans5_group2_weekend = road_join_weekend_all_cluster[kmeans5_group2_weekend]\n",
    "kmeans5_group2_weekend.to_csv(r'G:\\내 드라이브\\2021 공공빅데이터 청년인턴\\프로젝트\\데이터\\version2\\clustering\\group2_weekend.csv', sep=',', na_rep='NaN', encoding='EUC-KR')"
   ]
  },
  {
   "cell_type": "code",
   "execution_count": 29,
   "id": "0f6ed282",
   "metadata": {},
   "outputs": [],
   "source": [
    "kmeans5_group3_weekend = road_join_weekend_all_cluster['cluster'] == 3\n",
    "kmeans5_group3_weekend = road_join_weekend_all_cluster[kmeans5_group3_weekend]\n",
    "kmeans5_group3_weekend.to_csv(r'G:\\내 드라이브\\2021 공공빅데이터 청년인턴\\프로젝트\\데이터\\version2\\clustering\\group3_weekend.csv', sep=',', na_rep='NaN', encoding='EUC-KR')"
   ]
  },
  {
   "cell_type": "code",
   "execution_count": 30,
   "id": "22d7b1cf",
   "metadata": {},
   "outputs": [],
   "source": [
    "kmeans5_group4_weekend = road_join_weekend_all_cluster['cluster'] == 4\n",
    "kmeans5_group4_weekend = road_join_weekend_all_cluster[kmeans5_group4_weekend]\n",
    "kmeans5_group4_weekend.to_csv(r'G:\\내 드라이브\\2021 공공빅데이터 청년인턴\\프로젝트\\데이터\\version2\\clustering\\group4_weekend.csv', sep=',', na_rep='NaN', encoding='EUC-KR')"
   ]
  },
  {
   "cell_type": "code",
   "execution_count": null,
   "id": "30d55582",
   "metadata": {},
   "outputs": [],
   "source": []
  }
 ],
 "metadata": {
  "kernelspec": {
   "display_name": "Python 3",
   "language": "python",
   "name": "python3"
  },
  "language_info": {
   "codemirror_mode": {
    "name": "ipython",
    "version": 3
   },
   "file_extension": ".py",
   "mimetype": "text/x-python",
   "name": "python",
   "nbconvert_exporter": "python",
   "pygments_lexer": "ipython3",
   "version": "3.8.8"
  }
 },
 "nbformat": 4,
 "nbformat_minor": 5
}
